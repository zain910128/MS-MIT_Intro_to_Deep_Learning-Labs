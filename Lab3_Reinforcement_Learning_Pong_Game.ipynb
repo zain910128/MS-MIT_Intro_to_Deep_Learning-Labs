{
  "nbformat": 4,
  "nbformat_minor": 0,
  "metadata": {
    "colab": {
      "name": "Lab3_Reinforcement_Learning_Stick_Balance_Game.ipynb",
      "provenance": [],
      "collapsed_sections": [
        "jrI6q7RmWQam"
      ],
      "toc_visible": true,
      "include_colab_link": true
    },
    "kernelspec": {
      "name": "python3",
      "display_name": "Python 3"
    },
    "accelerator": "GPU"
  },
  "cells": [
    {
      "cell_type": "markdown",
      "metadata": {
        "id": "view-in-github",
        "colab_type": "text"
      },
      "source": [
        "<a href=\"https://colab.research.google.com/github/zain910128/MS-MIT_Intro_to_Deep_Learning-Labs/blob/master/Lab3_Reinforcement_Learning_Stick_Balance_Game.ipynb\" target=\"_parent\"><img src=\"https://colab.research.google.com/assets/colab-badge.svg\" alt=\"Open In Colab\"/></a>"
      ]
    },
    {
      "cell_type": "markdown",
      "metadata": {
        "id": "jrI6q7RmWQam",
        "colab_type": "text"
      },
      "source": [
        "<table align=\"center\">\n",
        "  <td align=\"center\"><a target=\"_blank\" href=\"http://introtodeeplearning.com\">\n",
        "        <img src=\"http://introtodeeplearning.com/images/colab/mit.png\" style=\"padding-bottom:5px;\" />\n",
        "      Visit MIT Deep Learning</a></td>\n",
        "  <td align=\"center\"><a target=\"_blank\" href=\"https://colab.research.google.com/github/aamini/introtodeeplearning/blob/master/lab3/RL.ipynb\">\n",
        "        <img src=\"http://introtodeeplearning.com/images/colab/colab.png?v2.0\"  style=\"padding-bottom:5px;\" />Run in Google Colab</a></td>\n",
        "  <td align=\"center\"><a target=\"_blank\" href=\"https://github.com/aamini/introtodeeplearning/blob/master/lab3/RL.ipynb\">\n",
        "        <img src=\"http://introtodeeplearning.com/images/colab/github.png\"  height=\"70px\" style=\"padding-bottom:5px;\"  />View Source on GitHub</a></td>\n",
        "</table>\n",
        "\n",
        "# Copyright Information"
      ]
    },
    {
      "cell_type": "code",
      "metadata": {
        "id": "wkd375upWYok",
        "colab_type": "code",
        "colab": {}
      },
      "source": [
        "# Copyright 2020 MIT 6.S191 Introduction to Deep Learning. All Rights Reserved.\n",
        "# \n",
        "# Licensed under the MIT License. You may not use this file except in compliance\n",
        "# with the License. Use and/or modification of this code outside of 6.S191 must\n",
        "# reference:\n",
        "#\n",
        "# © MIT 6.S191: Introduction to Deep Learning\n",
        "# http://introtodeeplearning.com\n",
        "#"
      ],
      "execution_count": null,
      "outputs": []
    },
    {
      "cell_type": "markdown",
      "metadata": {
        "id": "WoXYKhfZMHiw",
        "colab_type": "text"
      },
      "source": [
        "# Laboratory 3: Reinforcement Learning\n",
        "\n",
        "Reinforcement learning (RL) is a subset of machine learning which poses learning problems as interactions between agents and environments. It often assumes agents have no prior knowledge of a world, so they must learn to navigate environments by optimizing a reward function. Within an environment, an agent can take certain actions and receive feedback, in the form of positive or negative rewards, with respect to their decision. As such, an agent's feedback loop is somewhat akin to the idea of \"trial and error\", or the manner in which a child might learn to distinguish between \"good\" and \"bad\" actions.\n",
        "\n",
        "In practical terms, our RL agent will interact with the environment by taking an action at each timestep, receiving a corresponding reward, and updating its state according to what it has \"learned\".  \n",
        "\n",
        "![alt text](https://www.kdnuggets.com/images/reinforcement-learning-fig1-700.jpg)\n",
        "\n",
        "While the ultimate goal of reinforcement learning is to teach agents to act in the real, physical world, games provide a convenient proving ground for developing RL algorithms and agents. Games have some properties that make them particularly well suited for RL: \n",
        "\n",
        "1.   In many cases, games have perfectly describable environments. For example, all rules of chess can be formally written and programmed into a chess game simulator;\n",
        "2.   Games are massively parallelizable. Since they do not require running in the real world, simultaneous environments can be run on large data clusters; \n",
        "3.   Simpler scenarios in games enable fast prototyping. This speeds up the development of algorithms that could eventually run in the real-world; and\n",
        "4.   ... Games are fun! \n",
        "\n",
        "In previous labs, we have explored both supervised (with LSTMs, CNNs) and unsupervised / semi-supervised (with VAEs) learning tasks. Reinforcement learning is fundamentally different, in that we are training a deep learning algorithm to govern the actions of our RL agent, that is trying, within its environment, to find the optimal way to achieve a goal. The goal of training an RL agent is to determine the best next step to take to earn the greatest final payoff or return. In this lab, we focus on building a reinforcement learning algorithm to master two different environments with varying complexity. \n",
        "\n",
        "1.   **Cartpole**:   Balance a pole, protruding from a cart, in an upright position by only moving the base left or right. Environment with a low-dimensional observation space.\n",
        "2.   [**Pong**](https://en.wikipedia.org/wiki/Pong): Beat your competitors (whether other AI or humans!) at the game of Pong. Environment with a high-dimensional observation space -- learning directly from raw pixels.\n",
        "\n",
        "Let's get started! First we'll import TensorFlow, the course package, and some dependencies.\n"
      ]
    },
    {
      "cell_type": "code",
      "metadata": {
        "id": "EvdePP-VyVWp",
        "colab_type": "code",
        "colab": {
          "base_uri": "https://localhost:8080/",
          "height": 384
        },
        "outputId": "b90b3d20-1c3a-45ab-e572-340d086383a7"
      },
      "source": [
        "!apt-get install -y xvfb python-opengl x11-utils > /dev/null 2>&1\n",
        "!pip install gym pyvirtualdisplay scikit-video > /dev/null 2>&1\n",
        "\n",
        "%tensorflow_version 2.x\n",
        "import tensorflow as tf\n",
        "\n",
        "import numpy as np\n",
        "import base64, io, time, gym\n",
        "import IPython, functools\n",
        "import matplotlib.pyplot as plt\n",
        "from tqdm import tqdm\n",
        "\n",
        "!pip install mitdeeplearning\n",
        "import mitdeeplearning as mdl"
      ],
      "execution_count": null,
      "outputs": [
        {
          "output_type": "stream",
          "text": [
            "TensorFlow 2.x selected.\n",
            "Collecting mitdeeplearning\n",
            "\u001b[?25l  Downloading https://files.pythonhosted.org/packages/8b/3b/b9174b68dc10832356d02a2d83a64b43a24f1762c172754407d22fc8f960/mitdeeplearning-0.1.2.tar.gz (2.1MB)\n",
            "\u001b[K     |████████████████████████████████| 2.1MB 9.4MB/s \n",
            "\u001b[?25hRequirement already satisfied: numpy in /usr/local/lib/python3.6/dist-packages (from mitdeeplearning) (1.18.1)\n",
            "Requirement already satisfied: regex in /usr/local/lib/python3.6/dist-packages (from mitdeeplearning) (2019.12.20)\n",
            "Requirement already satisfied: tqdm in /usr/local/lib/python3.6/dist-packages (from mitdeeplearning) (4.28.1)\n",
            "Requirement already satisfied: gym in /usr/local/lib/python3.6/dist-packages (from mitdeeplearning) (0.17.1)\n",
            "Requirement already satisfied: pyglet<=1.5.0,>=1.4.0 in /usr/local/lib/python3.6/dist-packages (from gym->mitdeeplearning) (1.5.0)\n",
            "Requirement already satisfied: six in /usr/local/lib/python3.6/dist-packages (from gym->mitdeeplearning) (1.12.0)\n",
            "Requirement already satisfied: scipy in /usr/local/lib/python3.6/dist-packages (from gym->mitdeeplearning) (1.4.1)\n",
            "Requirement already satisfied: cloudpickle<1.4.0,>=1.2.0 in /usr/local/lib/python3.6/dist-packages (from gym->mitdeeplearning) (1.3.0)\n",
            "Requirement already satisfied: future in /usr/local/lib/python3.6/dist-packages (from pyglet<=1.5.0,>=1.4.0->gym->mitdeeplearning) (0.16.0)\n",
            "Building wheels for collected packages: mitdeeplearning\n",
            "  Building wheel for mitdeeplearning (setup.py) ... \u001b[?25l\u001b[?25hdone\n",
            "  Created wheel for mitdeeplearning: filename=mitdeeplearning-0.1.2-cp36-none-any.whl size=2114586 sha256=6742c61c86134cb3b168e810fcf6275e27e7ebe8f269609b67eb1aa985ab8d6a\n",
            "  Stored in directory: /root/.cache/pip/wheels/27/e1/73/5f01c787621d8a3c857f59876c79e304b9b64db9ff5bd61b74\n",
            "Successfully built mitdeeplearning\n",
            "Installing collected packages: mitdeeplearning\n",
            "Successfully installed mitdeeplearning-0.1.2\n"
          ],
          "name": "stdout"
        }
      ]
    },
    {
      "cell_type": "markdown",
      "metadata": {
        "id": "zmrHSiXKTXTY",
        "colab_type": "text"
      },
      "source": [
        "Before we dive in, let's take a step back and outline our approach, which is generally applicable to reinforcement learning problems in general:\n",
        "\n",
        "1. **Initialize our environment and our agent**: here we will describe the different observations and actions the agent can make in the environemnt.\n",
        "2. **Define our agent's memory**: this will enable the agent to remember its past actions, observations, and rewards.\n",
        "3. **Define a reward function**: describes the reward associated with an action or sequence of actions.\n",
        "4. **Define the learning algorithm**: this will be used to reinforce the agent's good behaviors and discourage bad behaviors.\n"
      ]
    },
    {
      "cell_type": "markdown",
      "metadata": {
        "id": "UT7YL8KBJIIc",
        "colab_type": "text"
      },
      "source": [
        "# Part 1: Cartpole\n",
        "\n",
        "## 3.1 Define the Cartpole environment and agent\n",
        "\n",
        "### Environment \n",
        "\n",
        "In order to model the environment for both the Cartpole and Pong tasks, we'll be using a toolkit developed by OpenAI called [OpenAI Gym](https://gym.openai.com/). It provides several pre-defined environments for training and testing reinforcement learning agents, including those for classic physics control tasks, Atari video games, and robotic simulations. To access the Cartpole environment, we can use `env = gym.make(\"CartPole-v0\")`, which we gained access to when we imported the `gym` package. We can instantiate different [environments](https://gym.openai.com/envs/#classic_control) by passing the enivronment name to the `make` function.\n",
        "\n",
        "One issue we might experience when developing RL algorithms is that many aspects of the learning process are inherently random: initializing game states, changes in the environment, and the agent's actions. As such, it can be helpful to set a initial \"seed\" for the environment to ensure some level of reproducibility. Much like you might use `numpy.random.seed`, we can call the comparable function in gym, `seed`, with our defined environment to ensure the environment's random variables are initialized the same each time."
      ]
    },
    {
      "cell_type": "code",
      "metadata": {
        "id": "quv9SC0iIYFm",
        "colab_type": "code",
        "colab": {
          "base_uri": "https://localhost:8080/",
          "height": 34
        },
        "outputId": "82489184-9f0c-4b34-f5f6-6ea65c0b646f"
      },
      "source": [
        "### Instantiate the Cartpole environment ###\n",
        "\n",
        "env = gym.make(\"CartPole-v0\")\n",
        "env.seed(1)"
      ],
      "execution_count": null,
      "outputs": [
        {
          "output_type": "execute_result",
          "data": {
            "text/plain": [
              "[1]"
            ]
          },
          "metadata": {
            "tags": []
          },
          "execution_count": 53
        }
      ]
    },
    {
      "cell_type": "markdown",
      "metadata": {
        "id": "mhEITUcKK455",
        "colab_type": "text"
      },
      "source": [
        "In Cartpole, a pole is attached by an un-actuated joint to a cart, which moves along a frictionless track. The pole starts upright, and the goal is to prevent it from falling over. The system is controlled by applying a force of +1 or -1 to the cart. A reward of +1 is provided for every timestep that the pole remains upright. The episode ends when the pole is more than 15 degrees from vertical, or the cart moves more than 2.4 units from the center of the track. A visual summary of the cartpole environment is depicted below:\n",
        "\n",
        "<img width=\"400px\" src=\"https://danielpiedrahita.files.wordpress.com/2017/02/cart-pole.png\"></img>\n",
        "\n",
        "Given this setup for the environment and the objective of the game, we can think about: 1) what observations help define the environment's state; 2) what actions the agent can take. \n",
        "\n",
        "First, let's consider the observation space. In this Cartpole environment our observations are:\n",
        "\n",
        "1. Cart position\n",
        "2. Cart velocity\n",
        "3. Pole angle\n",
        "4. Pole rotation rate\n",
        "\n",
        "We can confirm the size of the space by querying the environment's observation space:\n"
      ]
    },
    {
      "cell_type": "code",
      "metadata": {
        "id": "UVJaEcbdIX82",
        "colab_type": "code",
        "colab": {
          "base_uri": "https://localhost:8080/",
          "height": 34
        },
        "outputId": "0d4ca51f-d05d-4311-ee62-4d37cd3d107b"
      },
      "source": [
        "n_observations = env.observation_space\n",
        "print(\"Environment has observation space =\", n_observations)"
      ],
      "execution_count": null,
      "outputs": [
        {
          "output_type": "stream",
          "text": [
            "Environment has observation space = Box(4,)\n"
          ],
          "name": "stdout"
        }
      ]
    },
    {
      "cell_type": "markdown",
      "metadata": {
        "id": "ZibGgjrALgPM",
        "colab_type": "text"
      },
      "source": [
        "Second, we consider the action space. At every time step, the agent can move either right or left. Again we can confirm the size of the action space by querying the environment:"
      ]
    },
    {
      "cell_type": "code",
      "metadata": {
        "id": "qc9SIPxBIXrm",
        "colab_type": "code",
        "colab": {
          "base_uri": "https://localhost:8080/",
          "height": 34
        },
        "outputId": "778f398a-2e73-4d7f-b830-2ca6e56a8664"
      },
      "source": [
        "n_actions = env.action_space.n\n",
        "print(\"Number of possible actions that the agent can choose from =\", n_actions)"
      ],
      "execution_count": null,
      "outputs": [
        {
          "output_type": "stream",
          "text": [
            "Number of possible actions that the agent can choose from = 2\n"
          ],
          "name": "stdout"
        }
      ]
    },
    {
      "cell_type": "markdown",
      "metadata": {
        "id": "pPfHME8aRKkb",
        "colab_type": "text"
      },
      "source": [
        "### Cartpole agent\n",
        "\n",
        "Now that we have instantiated the environment and understood the dimensionality of the observation and action spaces, we are ready to define our agent. In deep reinforcement learning, a deep neural network defines the agent. This network will take as input an observation of the environment and output the probability of taking each of the possible actions. Since Cartpole is defined by a low-dimensional observation space, a simple feed-forward neural network should work well for our agent. We will define this using the `Sequential` API.\n"
      ]
    },
    {
      "cell_type": "code",
      "metadata": {
        "id": "W-o_XK4oQ4eu",
        "colab_type": "code",
        "colab": {}
      },
      "source": [
        "### Define the Cartpole agent ###\n",
        "\n",
        "# Defines a feed-forward neural network\n",
        "def create_cartpole_model():\n",
        "  model = tf.keras.models.Sequential([\n",
        "      # First Dense layer\n",
        "      tf.keras.layers.Dense(units=32, activation='relu'),\n",
        "\n",
        "      # TODO: Define the last Dense layer, which will provide the network's output.\n",
        "      # Think about the space the agent needs to act in!\n",
        "      tf.keras.layers.Dense(units=2, activation=None)\n",
        "  ])\n",
        "  return model\n",
        "\n",
        "cartpole_model = create_cartpole_model()"
      ],
      "execution_count": null,
      "outputs": []
    },
    {
      "cell_type": "markdown",
      "metadata": {
        "id": "d5D5NSIYS2IW",
        "colab_type": "text"
      },
      "source": [
        "Now that we have defined the core network architecture, we will define an *action function* that executes a forward pass through the network, given a set of observations, and samples from the output. This sampling from the output probabilities will be used to select the next action for the agent. \n",
        "\n",
        "**Critically, this action function is totally general -- we will use this function for both Cartpole and Pong, and it is applicable to other RL tasks, as well!**"
      ]
    },
    {
      "cell_type": "code",
      "metadata": {
        "id": "E_vVZRr8Q4R_",
        "colab_type": "code",
        "colab": {}
      },
      "source": [
        "### Define the agent's action function ###\n",
        "\n",
        "# Function that takes observations as input, executes a forward pass through model, \n",
        "#   and outputs a sampled action.\n",
        "# Arguments:\n",
        "#   model: the network that defines our agent\n",
        "#   observation: observation which is fed as input to the model\n",
        "# Returns:\n",
        "#   action: choice of agent action\n",
        "def choose_action(model, observation):\n",
        "  # add batch dimension to the observation\n",
        "  observation = np.expand_dims(observation, axis=0)\n",
        "\n",
        "  '''TODO: feed the observations through the model to predict the log probabilities of each possible action.'''\n",
        "  logits = model.predict(observation)\n",
        "  \n",
        "  # pass the log probabilities through a softmax to compute true probabilities\n",
        "  prob_weights = tf.nn.softmax(logits).numpy()\n",
        "  \n",
        "  '''TODO: randomly sample from the prob_weights to pick an action.\n",
        "  Hint: carefully consider the dimensionality of the input probabilities (vector) and the output action (scalar)'''\n",
        "  action = np.random.choice(n_actions, size=1, p=prob_weights.flatten())[0]\n",
        "\n",
        "  return action"
      ],
      "execution_count": null,
      "outputs": []
    },
    {
      "cell_type": "markdown",
      "metadata": {
        "id": "_tR9uAWcTnkr",
        "colab_type": "text"
      },
      "source": [
        "## 3.2 Define the agent's memory\n",
        "\n",
        "Now that we have instantiated the environment and defined the agent network architecture and action function, we are ready to move on to the next step in our RL workflow:\n",
        "1. **Initialize our environment and our agent**: here we will describe the different observations and actions the agent can make in the environemnt.\n",
        "2. **Define our agent's memory**: this will enable the agent to remember its past actions, observations, and rewards.\n",
        "3. **Define the learning algorithm**: this will be used to reinforce the agent's good behaviors and discourage bad behaviors.\n",
        "\n",
        "In reinforcement learning, training occurs alongside the agent's acting in the environment; an *episode* refers to a sequence of actions that ends in some terminal state, such as the pole falling down or the cart crashing. The agent will need to remember all of its observations and actions, such that once an episode ends, it can learn to \"reinforce\" the good actions and punish the undesirable actions via training. Our first step is to define a simple memory buffer that contains the agent's observations, actions, and received rewards from a given episode. \n",
        "\n",
        "**Once again, note the modularity of this memory buffer -- it can and will be applied to other RL tasks as well!**"
      ]
    },
    {
      "cell_type": "code",
      "metadata": {
        "id": "8MM6JwXVQ4JG",
        "colab_type": "code",
        "colab": {}
      },
      "source": [
        "### Agent Memory ###\n",
        "\n",
        "class Memory:\n",
        "  def __init__(self): \n",
        "      self.clear()\n",
        "\n",
        "  # Resets/restarts the memory buffer\n",
        "  def clear(self): \n",
        "      self.observations = []\n",
        "      self.actions = []\n",
        "      self.rewards = []\n",
        "\n",
        "  # Add observations, actions, rewards to memory\n",
        "  def add_to_memory(self, new_observation, new_action, new_reward): \n",
        "      self.observations.append(new_observation)\n",
        "      '''TODO: update the list of actions with new action'''\n",
        "      # TODO: your update code here\n",
        "      self.actions.append(new_action)\n",
        "      '''TODO: update the list of rewards with new reward'''\n",
        "      # TODO: your update code here\n",
        "      self.rewards.append(new_reward)\n",
        "        \n",
        "memory = Memory()"
      ],
      "execution_count": null,
      "outputs": []
    },
    {
      "cell_type": "markdown",
      "metadata": {
        "id": "D4YhtPaUVj5m",
        "colab_type": "text"
      },
      "source": [
        "## 3.3 Reward function\n",
        "\n",
        "We're almost ready to begin the learning algorithm for our agent! The next step is to compute the rewards of our agent as it acts in the environment. Since we (and the agent) is uncertain about if and when the game or task will end (i.e., when the pole will fall), it is useful to emphasize getting rewards **now** rather than later in the future -- this is the idea of discounting. This is a similar concept to discounting money in the case of interest. Recall from lecture, we use reward discount to give more preference at getting rewards now rather than later in the future. The idea of discounting rewards is similar to discounting money in the case of interest.\n",
        "\n",
        "To compute the expected cumulative reward, known as the **return**, at a given timestep in a learning episode, we sum the discounted rewards expected at that time step $t$, within a learning episode, and projecting into the future. We define the return (cumulative reward) at a time step $t$, $R_{t}$ as:\n",
        "\n",
        ">$R_{t}=\\sum_{k=0}^\\infty\\gamma^kr_{t+k}$\n",
        "\n",
        "where  $0 < \\gamma < 1$ is the discount factor and $r_{t}$ is the reward at time step $t$, and the index $k$ increments projection into the future within a single learning episode. Intuitively, you can think of this function as depreciating any rewards received at later time steps, which will force the agent prioritize getting rewards now. Since we can't extend episodes to infinity, in practice the computation will be limited to the number of timesteps in an episode -- after that the reward is assumed to be zero.\n",
        "\n",
        "Take note of the form of this sum -- we'll have to be clever about how we implement this function. Specifically, we'll need to initialize an array of zeros, with length of the number of time steps, and fill it with the real discounted reward values as we loop through the rewards from the episode, which will have been saved in the agents memory. What we ultimately care about is which actions are better relative to other actions taken in that episode -- so, we'll normalize our computed rewards, using the mean and standard deviation of the rewards across the learning episode.\n"
      ]
    },
    {
      "cell_type": "code",
      "metadata": {
        "id": "5_Q2OFYtQ32X",
        "colab_type": "code",
        "colab": {}
      },
      "source": [
        "### Reward function ###\n",
        "\n",
        "# Helper function that normalizes an np.array x\n",
        "def normalize(x):\n",
        "  x -= np.mean(x)\n",
        "  x /= np.std(x)\n",
        "  return x.astype(np.float32)\n",
        "\n",
        "# Compute normalized, discounted, cumulative rewards (i.e., return)\n",
        "# Arguments:\n",
        "#   rewards: reward at timesteps in episode\n",
        "#   gamma: discounting factor\n",
        "# Returns:\n",
        "#   normalized discounted reward\n",
        "def discount_rewards(rewards, gamma=0.95): \n",
        "  discounted_rewards = np.zeros_like(rewards)\n",
        "  R = 0\n",
        "  for t in reversed(range(0, len(rewards))):\n",
        "      # update the total discounted reward\n",
        "      R = R * gamma + rewards[t]\n",
        "      discounted_rewards[t] = R\n",
        "      \n",
        "  return normalize(discounted_rewards)"
      ],
      "execution_count": null,
      "outputs": []
    },
    {
      "cell_type": "markdown",
      "metadata": {
        "id": "QzbY-mjGYcmt",
        "colab_type": "text"
      },
      "source": [
        "## 3.4 Learning algorithm\n",
        "\n",
        "Now we can start to define the learing algorithm which will be used to reinforce good behaviors of the agent and discourage bad behaviours. In this lab, we will focus on *policy gradient* methods which aim to **maximize** the likelihood of actions that result in large rewards. Equivalently, this means that we want to **minimize** the negative likelihood of these same actions. We achieve this by simply **scaling** the probabilities by their associated rewards -- effectively amplifying the likelihood of actions that resujlt in large rewards.\n",
        "\n",
        "Since the log function is monotonically increasing, this means that minimizing **negative likelihood** is equivalent to minimizing **negative log-likelihood**.  Recall that we can easily compute the negative log-likelihood of a discrete action by evaluting its [softmax cross entropy](https://www.tensorflow.org/api_docs/python/tf/nn/sparse_softmax_cross_entropy_with_logits). Like in supervised learning, we can use stochastic gradient descent methods to achieve the desired minimization. \n",
        "\n",
        "Let's begin by defining the loss function."
      ]
    },
    {
      "cell_type": "code",
      "metadata": {
        "id": "fsgZ3IDCY_Zn",
        "colab_type": "code",
        "colab": {}
      },
      "source": [
        "### Loss function ###\n",
        "\n",
        "# Arguments:\n",
        "#   logits: network's predictions for actions to take\n",
        "#   actions: the actions the agent took in an episode\n",
        "#   rewards: the rewards the agent received in an episode\n",
        "# Returns:\n",
        "#   loss\n",
        "def compute_loss(logits, actions, rewards): \n",
        "  '''TODO: complete the function call to compute the negative log probabilities'''\n",
        "  neg_logprob = tf.nn.sparse_softmax_cross_entropy_with_logits(logits=logits, labels=actions)\n",
        "  \n",
        "  '''TODO: scale the negative log probability by the rewards'''\n",
        "  loss = tf.reduce_mean(neg_logprob*rewards)\n",
        "  return loss"
      ],
      "execution_count": null,
      "outputs": []
    },
    {
      "cell_type": "markdown",
      "metadata": {
        "id": "Rr5vQ9fqbPpp",
        "colab_type": "text"
      },
      "source": [
        "Now let's use the loss function to define a training step of our learning algorithm:"
      ]
    },
    {
      "cell_type": "code",
      "metadata": {
        "id": "_50ada7nbZ7L",
        "colab_type": "code",
        "colab": {}
      },
      "source": [
        "### Training step (forward and backpropagation) ###\n",
        "\n",
        "def train_step(model, optimizer, observations, actions, discounted_rewards):\n",
        "  with tf.GradientTape() as tape:\n",
        "      # Forward propagate through the agent network\n",
        "      logits = model(observations)\n",
        "\n",
        "      '''TODO: call the compute_loss function to compute the loss'''\n",
        "      loss = compute_loss(logits,actions,discounted_rewards)\n",
        "\n",
        "  '''TODO: run backpropagation to minimize the loss using the tape.gradient method.\n",
        "      Use `model.trainable_variables`'''\n",
        "  grads = tape.gradient(loss, model.trainable_variables)\n",
        "  optimizer.apply_gradients(zip(grads, model.trainable_variables))\n"
      ],
      "execution_count": null,
      "outputs": []
    },
    {
      "cell_type": "markdown",
      "metadata": {
        "id": "XsjKXh6BcgjR",
        "colab_type": "text"
      },
      "source": [
        "## 3.5 Run cartpole!\n",
        "\n",
        "Having had no prior knowledge of the environment, the agent will begin to learn how to balance the pole on the cart based only on the feedback received from the environment! Having defined how our agent can move, how it takes in new observations, and how it updates its state, we'll see how it gradually learns a policy of actions to optimize balancing the pole as long as possible. To do this, we'll track how the rewards evolve as a function of training -- how should the rewards change as training progresses?"
      ]
    },
    {
      "cell_type": "code",
      "metadata": {
        "id": "XmOzc2rrcn8Q",
        "colab_type": "code",
        "colab": {
          "base_uri": "https://localhost:8080/",
          "height": 541
        },
        "outputId": "b07e7bf4-a483-445c-efd5-30a9b66c9a01"
      },
      "source": [
        "### Cartpole training! ###\n",
        "\n",
        "\n",
        "\n",
        "# Learning rate and optimizer\n",
        "learning_rate = 1e-3\n",
        "optimizer = tf.keras.optimizers.Adam(learning_rate)\n",
        "\n",
        "# instantiate cartpole agent\n",
        "cartpole_model = create_cartpole_model()\n",
        "\n",
        "# to track our progress\n",
        "smoothed_reward = mdl.util.LossHistory(smoothing_factor=0.9)\n",
        "plotter = mdl.util.PeriodicPlotter(sec=2, xlabel='Iterations', ylabel='Rewards')\n",
        "\n",
        "if hasattr(tqdm, '_instances'): tqdm._instances.clear() # clear if it exists\n",
        "for i_episode in range(500):\n",
        "\n",
        "  plotter.plot(smoothed_reward.get())\n",
        "\n",
        "  # Restart the environment\n",
        "  observation = env.reset()\n",
        "  memory.clear()\n",
        "\n",
        "  while True:\n",
        "      # using our observation, choose an action and take it in the environment\n",
        "      action = choose_action(cartpole_model, observation)\n",
        "      next_observation, reward, done, info = env.step(action)\n",
        "      # add to memory\n",
        "      memory.add_to_memory(observation, action, reward)\n",
        "      \n",
        "      # is the episode over? did you crash or do so well that you're done?\n",
        "      if done:\n",
        "          # determine total reward and keep a record of this\n",
        "          total_reward = sum(memory.rewards)\n",
        "          smoothed_reward.append(total_reward)\n",
        "          \n",
        "          # initiate training - remember we don't know anything about how the \n",
        "          #   agent is doing until it has crashed!\n",
        "          train_step(cartpole_model, optimizer, \n",
        "                     observations=np.vstack(memory.observations),\n",
        "                     actions=np.array(memory.actions),\n",
        "                     discounted_rewards = discount_rewards(memory.rewards))\n",
        "          \n",
        "          # reset the memory\n",
        "          memory.clear()\n",
        "          break\n",
        "      # update our observatons\n",
        "      observation = next_observation"
      ],
      "execution_count": null,
      "outputs": [
        {
          "output_type": "display_data",
          "data": {
            "image/png": "[encoded data removed]",
            "text/plain": [
              "<Figure size 432x288 with 1 Axes>"
            ]
          },
          "metadata": {
            "tags": []
          }
        },
        {
          "output_type": "display_data",
          "data": {
            "image/png": "[encoded data removed]",
            "text/plain": [
              "<Figure size 432x288 with 1 Axes>"
            ]
          },
          "metadata": {
            "tags": []
          }
        }
      ]
    },
    {
      "cell_type": "markdown",
      "metadata": {
        "id": "mkcUtGF1VE-K",
        "colab_type": "text"
      },
      "source": [
        "To get a sense of how our agent did, we can save a video of the trained model working on balancing the pole. Realize that this is a brand new environment that the agent has not seen before!\n",
        "\n",
        "Let's display the saved video to watch how our agent did!\n"
      ]
    },
    {
      "cell_type": "code",
      "metadata": {
        "id": "PAYBkv6Zbk0J",
        "colab_type": "code",
        "colab": {
          "base_uri": "https://localhost:8080/",
          "height": 439
        },
        "outputId": "92180825-ebef-492b-fa25-da2a0d1751a4"
      },
      "source": [
        "saved_cartpole = mdl.lab3.save_video_of_model(cartpole_model, \"CartPole-v0\")\n",
        "mdl.lab3.play_video(saved_cartpole)"
      ],
      "execution_count": null,
      "outputs": [
        {
          "output_type": "stream",
          "text": [
            "Successfully saved 200 frames into CartPole-v0.mp4!\n"
          ],
          "name": "stdout"
        },
        {
          "output_type": "execute_result",
          "data": {
            "text/html": [
              "\n",
              "        <video controls>\n",
              "            <source src=\"data:video/mp4;base64,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\" type=\"video/mp4\" />\n",
              "        </video>"
            ],
            "text/plain": [
              "<IPython.core.display.HTML object>"
            ]
          },
          "metadata": {
            "tags": []
          },
          "execution_count": 74
        }
      ]
    },
    {
      "cell_type": "markdown",
      "metadata": {
        "id": "CSbVNDpaVb3_",
        "colab_type": "text"
      },
      "source": [
        "How does the agent perform? Could you train it for shorter amounts of time and still perform well? Do you think that training longer would help even more? "
      ]
    },
    {
      "cell_type": "markdown",
      "metadata": {
        "id": "Eu6Mqxc720ST",
        "colab_type": "text"
      },
      "source": [
        "#Part 2: Pong\n",
        "\n",
        "In Cartpole, we dealt with an environment that was static -- in other words, it didn't change over time. What happens if our environment is dynamic and unpredictable? Well that's exactly the case in [Pong](https://en.wikipedia.org/wiki/Pong), since part of the environment is the opposing player. We don't know how our opponent will act or react to our actions, so the complexity of our problem increases. It also becomes much more interesting, since we can compete to beat our opponent. RL provides a powerful framework for training AI systems with the ability to handle and interact with dynamic, unpredictable environments. In this part of the lab, we'll use the tools and workflow we explored in Part 1 to build an RL agent capable of playing the game of Pong.\n"
      ]
    },
    {
      "cell_type": "markdown",
      "metadata": {
        "id": "srZ4YE29isuA",
        "colab_type": "text"
      },
      "source": [
        "## 3.6 Define and inspect the Pong environment\n",
        "\n",
        "As with Cartpole, we'll instantiate the Pong environment in the OpenAI gym, using a seed of 1."
      ]
    },
    {
      "cell_type": "code",
      "metadata": {
        "id": "lbYHLr66i15n",
        "colab_type": "code",
        "colab": {}
      },
      "source": [
        "env = gym.make(\"Pong-v0\", frameskip=5)\n",
        "env.seed(1); # for reproducibility"
      ],
      "execution_count": null,
      "outputs": []
    },
    {
      "cell_type": "markdown",
      "metadata": {
        "id": "52uZ2Xhyi-MW",
        "colab_type": "text"
      },
      "source": [
        "Let's next consider the observation space for the Pong environment. Instead of four physical descriptors of the cart-pole setup, in the case of Pong our observations are the individual video frames (i.e., images) that depict the state of the board. Thus, the observations are 210x160 RGB images (arrays of shape (210,160,3)).\n",
        "\n",
        "We can again confirm the size of the observation space by query:"
      ]
    },
    {
      "cell_type": "code",
      "metadata": {
        "id": "0yX4GWvxjnHS",
        "colab_type": "code",
        "colab": {
          "base_uri": "https://localhost:8080/",
          "height": 34
        },
        "outputId": "e50d8c94-b101-4f34-8814-fa72c5a4e67d"
      },
      "source": [
        "print(\"Environment has observation space =\", env.observation_space)"
      ],
      "execution_count": null,
      "outputs": [
        {
          "output_type": "stream",
          "text": [
            "Environment has observation space = Box(210, 160, 3)\n"
          ],
          "name": "stdout"
        }
      ]
    },
    {
      "cell_type": "markdown",
      "metadata": {
        "id": "uuEC2TdSjx9D",
        "colab_type": "text"
      },
      "source": [
        "In Pong, at every time step, the agent (which controls the paddle) has six actions to choose from: no-op (no operation), move right, move left, fire, fire right, and fire left. Let's confirm the size of the action space by querying the environment:"
      ]
    },
    {
      "cell_type": "code",
      "metadata": {
        "id": "Iuy9oPc1kag3",
        "colab_type": "code",
        "colab": {
          "base_uri": "https://localhost:8080/",
          "height": 34
        },
        "outputId": "f1d73600-7223-4cd6-f88d-69df18b99101"
      },
      "source": [
        "n_actions = env.action_space.n\n",
        "print(\"Number of possible actions that the agent can choose from =\", n_actions)"
      ],
      "execution_count": null,
      "outputs": [
        {
          "output_type": "stream",
          "text": [
            "Number of possible actions that the agent can choose from = 6\n"
          ],
          "name": "stdout"
        }
      ]
    },
    {
      "cell_type": "markdown",
      "metadata": {
        "id": "9-fghDRigUE5",
        "colab_type": "text"
      },
      "source": [
        "## 3.7 Define the Pong agent\n",
        "\n",
        "As before, we'll use a neural network to define our agent. What network architecture do you think would be especially well suited to this game? Since our observations are now in the form of images, we'll add convolutional layers to the network to increase the learning capacity of our network."
      ]
    },
    {
      "cell_type": "code",
      "metadata": {
        "id": "IJiqbFYpgYRH",
        "colab_type": "code",
        "colab": {}
      },
      "source": [
        "### Define the Pong agent ###\n",
        "\n",
        "# Functionally define layers for convenience\n",
        "# All convolutional layers will have ReLu activation\n",
        "Conv2D = functools.partial(tf.keras.layers.Conv2D, padding='same', activation='relu')\n",
        "Flatten = tf.keras.layers.Flatten\n",
        "Dense = tf.keras.layers.Dense\n",
        "\n",
        "# Defines a CNN for the Pong agent\n",
        "def create_pong_model():\n",
        "  model = tf.keras.models.Sequential([\n",
        "    # Convolutional layers\n",
        "    # First, 16 7x7 filters with 4x4 stride\n",
        "    Conv2D(filters=16, kernel_size=7, strides=4),\n",
        "\n",
        "    # TODO: define convolutional layers with 32 5x5 filters and 2x2 stride\n",
        "    Conv2D(filters=32, kernel_size=5, strides=2),\n",
        "\n",
        "    # TODO: define convolutional layers with 48 3x3 filters and 2x2 stride\n",
        "    Conv2D(filters=48, kernel_size=3, strides=2),\n",
        "\n",
        "    Flatten(),\n",
        "    \n",
        "    # Fully connected layer and output\n",
        "    Dense(units=64, activation='relu'),\n",
        "    # TODO: define the output dimension of the last Dense layer. \n",
        "    # Pay attention to the space the agent needs to act in\n",
        "    Dense(units=n_actions, activation=None)\n",
        "  \n",
        "  ])\n",
        "  return model\n",
        "\n",
        "pong_model = create_pong_model()"
      ],
      "execution_count": null,
      "outputs": []
    },
    {
      "cell_type": "markdown",
      "metadata": {
        "id": "yaeZ067olFiJ",
        "colab_type": "text"
      },
      "source": [
        "Since we've already defined the action function, `choose_action(model, observation)`, we don't need to define it again. Instead, we'll be able to reuse it later on by passing in our new model we've just created, `pong_model`. This is awesome because our action function provides a modular and generalizable method for all sorts of RL agents!"
      ]
    },
    {
      "cell_type": "markdown",
      "metadata": {
        "id": "l0RvqOVkmc2r",
        "colab_type": "text"
      },
      "source": [
        "## 3.8 Pong-specific functions\n",
        "\n",
        "In Part 1 (Cartpole), we implemented some key functions and classes to build and train our RL agent -- `choose_action(model, observation)` and the `Memory` class, for example. However, in getting ready to apply these to a new game like Pong, we might need to make some slight modifications. \n",
        "\n",
        "Namely, we need to think about what happens when a game ends. In Pong, we know a game has ended if the reward is +1 (we won!) or -1 (we lost unfortunately). Otherwise, we expect the reward at a timestep to be zero -- the players (or agents) are just playing eachother. So, after a game ends, we will need to reset the reward to zero when a game ends. This will result in a modified reward function."
      ]
    },
    {
      "cell_type": "code",
      "metadata": {
        "id": "iEZG2o50luLu",
        "colab_type": "code",
        "colab": {}
      },
      "source": [
        "### Pong reward function ###\n",
        "\n",
        "# Compute normalized, discounted rewards for Pong (i.e., return)\n",
        "# Arguments:\n",
        "#   rewards: reward at timesteps in episode\n",
        "#   gamma: discounting factor. Note increase to 0.99 -- rate of depreciation will be slower.\n",
        "# Returns:\n",
        "#   normalized discounted reward\n",
        "def discount_rewards(rewards, gamma=0.99): \n",
        "  discounted_rewards = np.zeros_like(rewards)\n",
        "  R = 0\n",
        "  for t in reversed(range(0, len(rewards))):\n",
        "      # NEW: Reset the sum if the reward is not 0 (the game has ended!)\n",
        "      if rewards[t] != 0:\n",
        "        R = 0\n",
        "      # update the total discounted reward as before\n",
        "      R = R * gamma + rewards[t]\n",
        "      discounted_rewards[t] = R\n",
        "      \n",
        "  return normalize(discounted_rewards)"
      ],
      "execution_count": null,
      "outputs": []
    },
    {
      "cell_type": "markdown",
      "metadata": {
        "id": "HopLpb4IoOqA",
        "colab_type": "text"
      },
      "source": [
        "Additionally, we have to consider the nature of the observations in the Pong environment, and how they will be fed into our network. Our observations in this case are images. Before we input an image into our network, we'll do a bit of pre-processing to crop and scale, clean up the background colors to a single color, and set the important game elements to a single color. Let's use this function to visualize what an observation might look like before and after pre-processing."
      ]
    },
    {
      "cell_type": "code",
      "metadata": {
        "id": "no5IIYtFm8pI",
        "colab_type": "code",
        "colab": {
          "base_uri": "https://localhost:8080/",
          "height": 227
        },
        "outputId": "2fed6f67-4060-4e8d-d5a0-d6c0e344e40d"
      },
      "source": [
        "observation = env.reset()\n",
        "for i in range(30):\n",
        "  observation, _,_,_ = env.step(0)\n",
        "observation_pp = mdl.lab3.preprocess_pong(observation)\n",
        "\n",
        "f = plt.figure(figsize=(10,3))\n",
        "ax = f.add_subplot(121)\n",
        "ax2 = f.add_subplot(122)\n",
        "ax.imshow(observation); ax.grid(False);\n",
        "ax2.imshow(np.squeeze(observation_pp)); ax2.grid(False); plt.title('Preprocessed Observation');"
      ],
      "execution_count": null,
      "outputs": [
        {
          "output_type": "display_data",
          "data": {
            "image/png": "[encoded data removed]",
            "text/plain": [
              "<Figure size 720x216 with 2 Axes>"
            ]
          },
          "metadata": {
            "tags": []
          }
        }
      ]
    },
    {
      "cell_type": "markdown",
      "metadata": {
        "id": "bYwIWC-Cz8F2",
        "colab_type": "text"
      },
      "source": [
        "What do you notice? How might these changes be important for training our RL algorithm?"
      ]
    },
    {
      "cell_type": "markdown",
      "metadata": {
        "id": "mRqcaDQ1pm3x",
        "colab_type": "text"
      },
      "source": [
        "## 3.9 Training Pong\n",
        "\n",
        "We're now all set up to start training our RL algorithm and agent for the game of Pong! We've already defined our loss function with `compute_loss`, which employs policy gradient learning, as well as our backpropagation step with `train_step` which is beautiful! We will use these functions to execute training the Pong agent. Let's walk through the training block.\n",
        "\n",
        "In Pong, rather than feeding our network one image at a time, it can actually improve performance to input the difference between two consecutive observations, which really gives us information about the movement between frames -- how the game is changing. We'll first pre-process the raw observation, `x`, and then we'll compute the difference with the image frame we saw one timestep before. \n",
        "\n",
        "This observation change will be forward propagated through our Pong agent, the CNN network model, which will then predict the next action to take based on this observation. The raw reward will be computed, and the observation, action, and reward will be recorded into memory. This will continue until a training episode, i.e., a game, ends.\n",
        "\n",
        "Then, we will compute the discounted rewards, and use this information to execute a training step. Memory will be cleared, and we will do it all over again!\n",
        "\n",
        "Let's run the code block to train our Pong agent. Note that completing training will take quite a bit of time (estimated at least a couple of hours). We will again visualize the evolution of the total reward as a function of training to get a sense of how the agent is learning."
      ]
    },
    {
      "cell_type": "code",
      "metadata": {
        "id": "xCwyQQrPnkZG",
        "colab_type": "code",
        "colab": {
          "base_uri": "https://localhost:8080/",
          "height": 279
        },
        "outputId": "46c710b2-67d8-4439-aec3-e03dbe7852d1"
      },
      "source": [
        "### Training Pong ###\n",
        "\n",
        "# Hyperparameters\n",
        "learning_rate=1e-4\n",
        "MAX_ITERS = 10000 # increase the maximum number of episodes, since Pong is more complex!\n",
        "\n",
        "# Model and optimizer\n",
        "pong_model = create_pong_model()\n",
        "optimizer = tf.keras.optimizers.Adam(learning_rate)\n",
        "\n",
        "# plotting\n",
        "smoothed_reward = mdl.util.LossHistory(smoothing_factor=0.9)\n",
        "plotter = mdl.util.PeriodicPlotter(sec=5, xlabel='Iterations', ylabel='Rewards')\n",
        "memory = Memory()\n",
        "\n",
        "for i_episode in range(MAX_ITERS):\n",
        "\n",
        "  plotter.plot(smoothed_reward.get())\n",
        "\n",
        "  # Restart the environment\n",
        "  observation = env.reset()\n",
        "  previous_frame = mdl.lab3.preprocess_pong(observation)\n",
        "\n",
        "  while True:\n",
        "      # Pre-process image \n",
        "      current_frame = mdl.lab3.preprocess_pong(observation)\n",
        "      \n",
        "      '''TODO: determine the observation change\n",
        "      Hint: this is the difference between the past two frames'''\n",
        "      obs_change = current_frame-previous_frame\n",
        "      \n",
        "      '''TODO: choose an action for the pong model, using the frame difference, and evaluate'''\n",
        "      action = choose_action(pong_model, obs_change)\n",
        "      # Take the chosen action\n",
        "      next_observation, reward, done, info = env.step(action)\n",
        "\n",
        "      '''TODO: save the observed frame difference, the action that was taken, and the resulting reward!'''\n",
        "      memory.add_to_memory(obs_change, action, reward)\n",
        "      \n",
        "      # is the episode over? did you crash or do so well that you're done?\n",
        "      if done:\n",
        "          # determine total reward and keep a record of this\n",
        "          total_reward = sum(memory.rewards)\n",
        "          smoothed_reward.append( total_reward )\n",
        "\n",
        "          # begin training\n",
        "          train_step(pong_model, \n",
        "                     optimizer, \n",
        "                     observations = np.stack(memory.observations, 0), \n",
        "                     actions = np.array(memory.actions),\n",
        "                     discounted_rewards = discount_rewards(memory.rewards))\n",
        "          \n",
        "          memory.clear()\n",
        "          break\n",
        "\n",
        "      observation = next_observation\n",
        "      previous_frame = current_frame"
      ],
      "execution_count": null,
      "outputs": [
        {
          "output_type": "display_data",
          "data": {
            "image/png": "[encoded data removed]",
            "text/plain": [
              "<Figure size 432x288 with 1 Axes>"
            ]
          },
          "metadata": {
            "tags": []
          }
        }
      ]
    },
    {
      "cell_type": "markdown",
      "metadata": {
        "id": "8LiEY5Y_ts-Z",
        "colab_type": "text"
      },
      "source": [
        "Finally we can put our trained agent to the test! It will play in a newly instantiated Pong environment against the \"computer\", a base AI system for Pong. Your agent plays as the green paddle. Let's watch the match instant replay!"
      ]
    },
    {
      "cell_type": "code",
      "metadata": {
        "id": "TvHXbkL0tR6M",
        "colab_type": "code",
        "colab": {
          "base_uri": "https://localhost:8080/",
          "height": 217
        },
        "outputId": "e95b597c-1ad3-4086-b7ce-76f2e9ce6a31"
      },
      "source": [
        "saved_pong = mdl.lab3.save_video_of_model(\n",
        "    pong_model, \"Pong-v0\", obs_diff=True, \n",
        "    pp_fn=mdl.lab3.preprocess_pong)\n",
        "mdl.lab3.play_video(saved_pong)"
      ],
      "execution_count": null,
      "outputs": [
        {
          "output_type": "error",
          "ename": "NameError",
          "evalue": "ignored",
          "traceback": [
            "\u001b[0;31m---------------------------------------------------------------------------\u001b[0m",
            "\u001b[0;31mNameError\u001b[0m                                 Traceback (most recent call last)",
            "\u001b[0;32m<ipython-input-3-00442644751a>\u001b[0m in \u001b[0;36m<module>\u001b[0;34m()\u001b[0m\n\u001b[1;32m      1\u001b[0m saved_pong = mdl.lab3.save_video_of_model(\n\u001b[0;32m----> 2\u001b[0;31m     \u001b[0mpong_model\u001b[0m\u001b[0;34m,\u001b[0m \u001b[0;34m\"Pong-v0\"\u001b[0m\u001b[0;34m,\u001b[0m \u001b[0mobs_diff\u001b[0m\u001b[0;34m=\u001b[0m\u001b[0;32mTrue\u001b[0m\u001b[0;34m,\u001b[0m\u001b[0;34m\u001b[0m\u001b[0;34m\u001b[0m\u001b[0m\n\u001b[0m\u001b[1;32m      3\u001b[0m     pp_fn=mdl.lab3.preprocess_pong)\n\u001b[1;32m      4\u001b[0m \u001b[0mmdl\u001b[0m\u001b[0;34m.\u001b[0m\u001b[0mlab3\u001b[0m\u001b[0;34m.\u001b[0m\u001b[0mplay_video\u001b[0m\u001b[0;34m(\u001b[0m\u001b[0msaved_pong\u001b[0m\u001b[0;34m)\u001b[0m\u001b[0;34m\u001b[0m\u001b[0;34m\u001b[0m\u001b[0m\n",
            "\u001b[0;31mNameError\u001b[0m: name 'pong_model' is not defined"
          ]
        }
      ]
    },
    {
      "cell_type": "markdown",
      "metadata": {
        "id": "TIlwIgBP3Js6",
        "colab_type": "text"
      },
      "source": [
        "## 3.10 Conclusion\n",
        "\n",
        "That's it! Congratulations on training two RL agents and putting them to the test! We encourage you to consider the following:\n",
        "\n",
        "*   How does the agent perform?\n",
        "*   Could you train it for shorter amounts of time  and still perform well?\n",
        "*   Do you think that training longer would help even more? \n",
        "* How does the complexity of Pong relative to Cartpole alter the rate at which the agent learns and its performance? \n",
        "* What are some things you could change about the agent or the learning process to potentially improve performance?\n",
        "\n",
        "If you want to go further, try to optimize your model to achieve the best performance! **[Email us](mailto:introtodeeplearning-staff@mit.edu) a copy of your notebook with the Pong training executed AND a saved video of your Pong agent competing! We'll give out prizes to the best performers!**"
      ]
    }
  ]
}
